{
 "cells": [
  {
   "cell_type": "code",
   "execution_count": 1,
   "metadata": {},
   "outputs": [],
   "source": [
    "# Given a URL path for EDGAR 10-K file in .txt format for a company\n",
    "# (CIK) in a year this code will perform word count\n",
    "from urllib.request import urlopen\n",
    "import time\n",
    "import csv\n",
    "import sys"
   ]
  },
  {
   "cell_type": "code",
   "execution_count": 2,
   "metadata": {},
   "outputs": [],
   "source": [
    "CIK = '0001018724'\n",
    "Year = '2013'\n",
    "string_match1 = 'edgar/data/1018724/0001193125-13-028520.txt'\n",
    "url3 = 'https://www.sec.gov/Archives/'+string_match1 "
   ]
  },
  {
   "cell_type": "code",
   "execution_count": 3,
   "metadata": {},
   "outputs": [],
   "source": [
    "#words: list of uncertainty words from Loughran and McDonald (2011)\n",
    "words = ['anticipate', 'believe', 'depend', 'fluctuate', 'indefinite',\n",
    "'likelihood', 'possible', 'predict', 'risk', 'uncertain']\n",
    "\n",
    "count={} # is a dictionary data structure in Python\n",
    "\n",
    "for elem in words:\n",
    "    count[elem] = 0"
   ]
  },
  {
   "cell_type": "code",
   "execution_count": 11,
   "metadata": {},
   "outputs": [
    {
     "name": "stdout",
     "output_type": "stream",
     "text": [
      "---------------------\n",
      "0001018724\n",
      "2013\n",
      "https://www.sec.gov/Archives/edgar/data/1018724/0001193125-13-028520.txt\n",
      "{'anticipate': 0, 'believe': 28, 'depend': 2, 'fluctuate': 3, 'indefinite': 0, 'likelihood': 11, 'possible': 18, 'predict': 3, 'risk': 25, 'uncertain': 10}\n"
     ]
    }
   ],
   "source": [
    "#load the page in for the given url in response3\n",
    "#urllib2 is a Python module that can be used for fetching URLs\n",
    "response3 = urlopen(url3)\n",
    "\n",
    "#The method split() returns a list of all the words in the string\n",
    "#The split function splits a single string into a string array using\n",
    "#the separator defined.\n",
    "#If no separator is defined, whitespace is used.\n",
    "\n",
    "print(\"---------------------\")\n",
    "for line in response3:\n",
    "    line = str(line)\n",
    "    elements = line.split()\n",
    "    for word in words:\n",
    "        count[word] = count[word] + elements.count(word)\n",
    "print (CIK)\n",
    "print (Year)\n",
    "print (url3)\n",
    "print (count)"
   ]
  },
  {
   "cell_type": "code",
   "execution_count": null,
   "metadata": {},
   "outputs": [],
   "source": []
  },
  {
   "cell_type": "code",
   "execution_count": null,
   "metadata": {},
   "outputs": [],
   "source": []
  },
  {
   "cell_type": "code",
   "execution_count": null,
   "metadata": {},
   "outputs": [],
   "source": []
  },
  {
   "cell_type": "code",
   "execution_count": null,
   "metadata": {},
   "outputs": [],
   "source": []
  },
  {
   "cell_type": "code",
   "execution_count": null,
   "metadata": {},
   "outputs": [],
   "source": []
  }
 ],
 "metadata": {
  "kernelspec": {
   "display_name": "Python 3",
   "language": "python",
   "name": "python3"
  },
  "language_info": {
   "codemirror_mode": {
    "name": "ipython",
    "version": 3
   },
   "file_extension": ".py",
   "mimetype": "text/x-python",
   "name": "python",
   "nbconvert_exporter": "python",
   "pygments_lexer": "ipython3",
   "version": "3.6.5"
  }
 },
 "nbformat": 4,
 "nbformat_minor": 2
}
