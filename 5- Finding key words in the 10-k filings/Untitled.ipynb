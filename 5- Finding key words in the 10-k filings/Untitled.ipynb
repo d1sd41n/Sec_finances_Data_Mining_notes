{
 "cells": [
  {
   "cell_type": "code",
   "execution_count": 3,
   "metadata": {},
   "outputs": [],
   "source": [
    "# Given a Master Index URL of EDGAR find the path of raw text filing\n",
    "#(10-K) for AMAZON COM (CIK 1018724) in year 2013\n",
    "from urllib.request import urlopen\n",
    "import time\n",
    "import csv\n",
    "import sys\n",
    "\n",
    "CIK = '1018724' #AMAZON COM\n",
    "Year = '2013' #GIVEN\n",
    "FILE='10-K' #GIVEN"
   ]
  },
  {
   "cell_type": "code",
   "execution_count": 18,
   "metadata": {},
   "outputs": [
    {
     "name": "stdout",
     "output_type": "stream",
     "text": [
      "edgar/data/1018724/0001193125-13-028520.txt\\n'\n"
     ]
    }
   ],
   "source": [
    "#####Get the Master Index File for the given Year\n",
    "url='https://www.sec.gov/Archives/edgar/full-index/%s/QTR1/master.idx'%(Year)\n",
    "\n",
    "response = urlopen(url)\n",
    "\n",
    "string_match1 = 'edgar/data/'\n",
    "\n",
    "element2 = None\n",
    "element3 = None\n",
    "element4 = None\n",
    "\n",
    "for line in response:\n",
    "    line = str(line)\n",
    "    if CIK in line and FILE in line:\n",
    "        for element in line.split(' '):\n",
    "            if string_match1 in element:\n",
    "                element2=element.split('|')\n",
    "                for element3 in element2:\n",
    "                    if string_match1 in element3:\n",
    "                        element4=element3\n",
    "                        print(element4)\n",
    "                            # The path of the 10-K filing\n",
    "# url3 = 'https://www.sec.gov/Archives/'+element4\n",
    "# response3 = urllib2.urlopen(url3)\n",
    "# words = ['anticipate', 'believe', 'depend', 'fluctuate', 'indefinite',\n",
    "# 'likelihood', 'possible', 'predict', 'risk', 'uncertain']\n",
    "# count={}\n",
    "# for elem in words:\n",
    "#     count[elem] = 0\n",
    "# for line in response3:\n",
    "#     elements = line.split()\n",
    "#     for word in words:\n",
    "#         count[word] = count[word]+elements.count(word)\n",
    "# print (CIK)\n",
    "# print (Year)\n",
    "# print (url3)\n",
    "# print (count)"
   ]
  },
  {
   "cell_type": "code",
   "execution_count": 10,
   "metadata": {},
   "outputs": [
    {
     "data": {
      "text/plain": [
       "<http.client.HTTPResponse at 0x7fd63c5c15f8>"
      ]
     },
     "execution_count": 10,
     "metadata": {},
     "output_type": "execute_result"
    }
   ],
   "source": [
    "response3"
   ]
  },
  {
   "cell_type": "code",
   "execution_count": null,
   "metadata": {},
   "outputs": [],
   "source": []
  }
 ],
 "metadata": {
  "kernelspec": {
   "display_name": "Python 3",
   "language": "python",
   "name": "python3"
  },
  "language_info": {
   "codemirror_mode": {
    "name": "ipython",
    "version": 3
   },
   "file_extension": ".py",
   "mimetype": "text/x-python",
   "name": "python",
   "nbconvert_exporter": "python",
   "pygments_lexer": "ipython3",
   "version": "3.6.5"
  }
 },
 "nbformat": 4,
 "nbformat_minor": 2
}
