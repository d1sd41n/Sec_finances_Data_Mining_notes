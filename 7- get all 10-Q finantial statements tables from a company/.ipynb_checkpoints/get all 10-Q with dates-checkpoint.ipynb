{
 "cells": [
  {
   "cell_type": "code",
   "execution_count": 6,
   "metadata": {},
   "outputs": [],
   "source": [
    "import requests\n",
    "from bs4 import BeautifulSoup\n",
    "import pandas as pd"
   ]
  },
  {
   "cell_type": "markdown",
   "metadata": {},
   "source": [
    "# Section One: Define the Parameters of the Search\n",
    "To create a search we need to \"build\" a URL that takes us to a valid results query, this requires taking our base endpoint and attaching on different parameters to help narrow down our search. I'll do my best to explain how each of these parameters works, but unfortunately, there is no formal documentation on this.\n",
    "\n",
    "Endpoint The endpoint for our EDGAR query is https://www.sec.gov/cgi-bin/browse-edgar if you go to this link without any additional parameters it will be an invalid request.\n",
    "\n",
    "--------------------------------------------------------------------\n",
    "### Parameters:\n",
    "\n",
    "- **action:** (required) By default should be set to getcompany.\n",
    "\n",
    "- **CIK**: (required) Is the CIK number of the company you are searching.\n",
    "\n",
    "- **type**: (optional) Allows filtering the type of form. For example, if set to 10-k only the 10-K filings are returned.\n",
    "\n",
    "- **dateb**: (optional) Will only return the filings before a given date. The format is as follows YYYYMMDD\n",
    "\n",
    "- **owner:** (required) Is set to exclude by default and specifies ownership. You may also set it to include and only.\n",
    "\n",
    "- **start:** (optional) Is the starting index of the results. For example, if I have 100 results but want to start at 45 of 100, I would pass 45.\n",
    "\n",
    "- **state:** (optional) The company's state.\n",
    "\n",
    "- **filenum:** (optional) The filing number.\n",
    "\n",
    "- **sic:** (optional) The company's SIC (Standard Industry Classification) identifier\n",
    "- **output:** (optional) Defines returned data structure as either xml (atom) or normal html.\n",
    "\n",
    "- **count:** (optional) The number of results you want to see with your request, the max is 100 and if not set it will default to 40.\n",
    "\n",
    "------------------------------------------------------------------------------\n",
    "Now that we understand all the parameters let's make a request by defining our endpoint, and then a dictionary of our parameters. Where the key of the dictionary is the parameter name, and the value is the value we want to set for that parameter. Once we've defined these two components we can make our request and parse the response using BeautifulSoup."
   ]
  },
  {
   "cell_type": "code",
   "execution_count": 37,
   "metadata": {},
   "outputs": [
    {
     "name": "stdout",
     "output_type": "stream",
     "text": [
      "200\n",
      "https://www.sec.gov/cgi-bin/browse-edgar?action=getcompany&CIK=0000789019&type=10-Q&dateb=&owner=exclude&start=&output=&count=100\n"
     ]
    }
   ],
   "source": [
    "# base URL for the SEC EDGAR browser\n",
    "endpoint = r\"https://www.sec.gov/cgi-bin/browse-edgar\"\n",
    "\n",
    "# define our parameters dictionary\n",
    "param_dict = {'action':'getcompany',\n",
    "              'CIK':'0000789019',\n",
    "              'type':'10-Q',\n",
    "              'dateb':'',\n",
    "              'owner':'exclude',\n",
    "              'start':'',\n",
    "              'output':'',\n",
    "              'count':'100'}\n",
    "\n",
    "# request the url, and then parse the response.\n",
    "response = requests.get(url = endpoint, params = param_dict)\n",
    "soup = BeautifulSoup(response.content, 'lxml')\n",
    "\n",
    "# print status code\n",
    "print(response.status_code)\n",
    "print(response.url)"
   ]
  },
  {
   "cell_type": "code",
   "execution_count": 49,
   "metadata": {},
   "outputs": [
    {
     "data": {
      "text/plain": [
       "['HTML_FORMATTERS',\n",
       " 'XML_FORMATTERS',\n",
       " '__bool__',\n",
       " '__call__',\n",
       " '__class__',\n",
       " '__contains__',\n",
       " '__copy__',\n",
       " '__delattr__',\n",
       " '__delitem__',\n",
       " '__dict__',\n",
       " '__dir__',\n",
       " '__doc__',\n",
       " '__eq__',\n",
       " '__format__',\n",
       " '__ge__',\n",
       " '__getattr__',\n",
       " '__getattribute__',\n",
       " '__getitem__',\n",
       " '__gt__',\n",
       " '__hash__',\n",
       " '__init__',\n",
       " '__init_subclass__',\n",
       " '__iter__',\n",
       " '__le__',\n",
       " '__len__',\n",
       " '__lt__',\n",
       " '__module__',\n",
       " '__ne__',\n",
       " '__new__',\n",
       " '__reduce__',\n",
       " '__reduce_ex__',\n",
       " '__repr__',\n",
       " '__setattr__',\n",
       " '__setitem__',\n",
       " '__sizeof__',\n",
       " '__str__',\n",
       " '__subclasshook__',\n",
       " '__unicode__',\n",
       " '__weakref__',\n",
       " '_all_strings',\n",
       " '_attr_value_as_string',\n",
       " '_attribute_checker',\n",
       " '_find_all',\n",
       " '_find_one',\n",
       " '_formatter_for_name',\n",
       " '_is_xml',\n",
       " '_lastRecursiveChild',\n",
       " '_last_descendant',\n",
       " '_select_debug',\n",
       " '_selector_combinators',\n",
       " '_should_pretty_print',\n",
       " '_tag_name_matches_and',\n",
       " 'append',\n",
       " 'attribselect_re',\n",
       " 'attrs',\n",
       " 'can_be_empty_element',\n",
       " 'childGenerator',\n",
       " 'children',\n",
       " 'clear',\n",
       " 'contents',\n",
       " 'decode',\n",
       " 'decode_contents',\n",
       " 'decompose',\n",
       " 'descendants',\n",
       " 'encode',\n",
       " 'encode_contents',\n",
       " 'extract',\n",
       " 'fetchNextSiblings',\n",
       " 'fetchParents',\n",
       " 'fetchPrevious',\n",
       " 'fetchPreviousSiblings',\n",
       " 'find',\n",
       " 'findAll',\n",
       " 'findAllNext',\n",
       " 'findAllPrevious',\n",
       " 'findChild',\n",
       " 'findChildren',\n",
       " 'findNext',\n",
       " 'findNextSibling',\n",
       " 'findNextSiblings',\n",
       " 'findParent',\n",
       " 'findParents',\n",
       " 'findPrevious',\n",
       " 'findPreviousSibling',\n",
       " 'findPreviousSiblings',\n",
       " 'find_all',\n",
       " 'find_all_next',\n",
       " 'find_all_previous',\n",
       " 'find_next',\n",
       " 'find_next_sibling',\n",
       " 'find_next_siblings',\n",
       " 'find_parent',\n",
       " 'find_parents',\n",
       " 'find_previous',\n",
       " 'find_previous_sibling',\n",
       " 'find_previous_siblings',\n",
       " 'format_string',\n",
       " 'get',\n",
       " 'getText',\n",
       " 'get_attribute_list',\n",
       " 'get_text',\n",
       " 'has_attr',\n",
       " 'has_key',\n",
       " 'hidden',\n",
       " 'index',\n",
       " 'insert',\n",
       " 'insert_after',\n",
       " 'insert_before',\n",
       " 'isSelfClosing',\n",
       " 'is_empty_element',\n",
       " 'known_xml',\n",
       " 'name',\n",
       " 'namespace',\n",
       " 'next',\n",
       " 'nextGenerator',\n",
       " 'nextSibling',\n",
       " 'nextSiblingGenerator',\n",
       " 'next_element',\n",
       " 'next_elements',\n",
       " 'next_sibling',\n",
       " 'next_siblings',\n",
       " 'parent',\n",
       " 'parentGenerator',\n",
       " 'parents',\n",
       " 'parserClass',\n",
       " 'parser_class',\n",
       " 'prefix',\n",
       " 'preserve_whitespace_tags',\n",
       " 'prettify',\n",
       " 'previous',\n",
       " 'previousGenerator',\n",
       " 'previousSibling',\n",
       " 'previousSiblingGenerator',\n",
       " 'previous_element',\n",
       " 'previous_elements',\n",
       " 'previous_sibling',\n",
       " 'previous_siblings',\n",
       " 'quoted_colon',\n",
       " 'recursiveChildGenerator',\n",
       " 'renderContents',\n",
       " 'replaceWith',\n",
       " 'replaceWithChildren',\n",
       " 'replace_with',\n",
       " 'replace_with_children',\n",
       " 'select',\n",
       " 'select_one',\n",
       " 'setup',\n",
       " 'string',\n",
       " 'strings',\n",
       " 'stripped_strings',\n",
       " 'tag_name_re',\n",
       " 'text',\n",
       " 'unwrap',\n",
       " 'wrap']"
      ]
     },
     "execution_count": 49,
     "metadata": {},
     "output_type": "execute_result"
    }
   ],
   "source": [
    "# this list will save all interative data links\n",
    "I_D_links = []\n",
    "\n",
    "# get all interactive data financial statements\n",
    "table = soup.find(class_=\"tableFile2\")\n",
    "dir(table)\n",
    "# rows = table.findAllNext(id=\"interactiveDataBtn\")\n",
    "# rows[0]"
   ]
  },
  {
   "cell_type": "code",
   "execution_count": 88,
   "metadata": {},
   "outputs": [],
   "source": [
    "rows = table.find_all(\"tr\")[1:]\n",
    "# for row in rows:\n",
    "#     print()\n",
    "# \"interactiveDataBtn\" in rows[0].decode()\n",
    "# rows[0]\n",
    "# rows[0].find_all(\"td\")[3].string\n",
    "# rows[0].find(id=\"interactiveDataBtn\").get('href')"
   ]
  },
  {
   "cell_type": "code",
   "execution_count": 10,
   "metadata": {},
   "outputs": [
    {
     "name": "stdout",
     "output_type": "stream",
     "text": [
      "/Archives/edgar/data/1018724/000101872420000021/Financial_Report.xlsx\n",
      "/Archives/edgar/data/1018724/000101872420000010/Financial_Report.xlsx\n",
      "/Archives/edgar/data/1018724/000101872419000089/Financial_Report.xlsx\n",
      "/Archives/edgar/data/1018724/000101872419000071/Financial_Report.xlsx\n",
      "/Archives/edgar/data/1018724/000101872419000043/Financial_Report.xlsx\n",
      "/Archives/edgar/data/1018724/000101872418000159/Financial_Report.xlsx\n",
      "/Archives/edgar/data/1018724/000101872418000108/Financial_Report.xlsx\n",
      "/Archives/edgar/data/1018724/000101872418000072/Financial_Report.xlsx\n",
      "/Archives/edgar/data/1018724/000101872417000135/Financial_Report.xlsx\n",
      "/Archives/edgar/data/1018724/000101872417000100/Financial_Report.xlsx\n",
      "/Archives/edgar/data/1018724/000101872417000051/Financial_Report.xlsx\n",
      "/Archives/edgar/data/1018724/000101872416000324/Financial_Report.xlsx\n",
      "/Archives/edgar/data/1018724/000101872416000286/Financial_Report.xlsx\n",
      "/Archives/edgar/data/1018724/000101872416000227/Financial_Report.xlsx\n",
      "/Archives/edgar/data/1018724/000101872415000126/Financial_Report.xlsx\n",
      "/Archives/edgar/data/1018724/000101872415000087/Financial_Report.xlsx\n",
      "/Archives/edgar/data/1018724/000101872415000038/Financial_Report.xlsx\n",
      "/Archives/edgar/data/1018724/000101872414000055/Financial_Report.xlsx\n",
      "/Archives/edgar/data/1018724/000101872414000025/Financial_Report.xlsx\n",
      "/Archives/edgar/data/1018724/000101872414000014/Financial_Report.xlsx\n",
      "/Archives/edgar/data/1018724/000144530513002495/Financial_Report.xlsx\n",
      "/Archives/edgar/data/1018724/000119312513303204/Financial_Report.xls\n",
      "/Archives/edgar/data/1018724/000119312513174667/Financial_Report.xls\n",
      "/Archives/edgar/data/1018724/000119312512436012/Financial_Report.xls\n",
      "/Archives/edgar/data/1018724/000119312512317409/Financial_Report.xls\n",
      "/Archives/edgar/data/1018724/000119312512187203/Financial_Report.xls\n",
      "/Archives/edgar/data/1018724/000119312511280739/Financial_Report.xls\n",
      "/Archives/edgar/data/1018724/000119312511197823/Financial_Report.xls\n",
      "/Archives/edgar/data/1018724/000119312511110197/Financial_Report.xls\n",
      "/Archives/edgar/data/1018724/000119312510233883/Financial_Report.xls\n",
      "/Archives/edgar/data/1018724/000119312510164083/Financial_Report.xls\n",
      "/Archives/edgar/data/1018724/000119312510090367/Financial_Report.xls\n",
      "/Archives/edgar/data/1018724/000119312509212134/Financial_Report.xls\n",
      "/Archives/edgar/data/1018724/000119312509154174/Financial_Report.xls\n"
     ]
    }
   ],
   "source": [
    "F_S_links = []\n",
    "for l in I_D_links:\n",
    "    endpoint = l\n",
    "    response = requests.get(url = endpoint)\n",
    "    soup = BeautifulSoup(response.content, 'lxml')\n",
    "    entries = soup.find(\"a\", string=\"View Excel Document\")\n",
    "    F_S_links.append(\"https://www.sec.gov\" + entries.get('href'))\n",
    "    print(entries.get('href'))\n",
    "    "
   ]
  },
  {
   "cell_type": "code",
   "execution_count": 11,
   "metadata": {
    "scrolled": true
   },
   "outputs": [
    {
     "data": {
      "text/plain": [
       "['https://www.sec.gov/Archives/edgar/data/1018724/000101872420000021/Financial_Report.xlsx',\n",
       " 'https://www.sec.gov/Archives/edgar/data/1018724/000101872420000010/Financial_Report.xlsx',\n",
       " 'https://www.sec.gov/Archives/edgar/data/1018724/000101872419000089/Financial_Report.xlsx',\n",
       " 'https://www.sec.gov/Archives/edgar/data/1018724/000101872419000071/Financial_Report.xlsx',\n",
       " 'https://www.sec.gov/Archives/edgar/data/1018724/000101872419000043/Financial_Report.xlsx',\n",
       " 'https://www.sec.gov/Archives/edgar/data/1018724/000101872418000159/Financial_Report.xlsx',\n",
       " 'https://www.sec.gov/Archives/edgar/data/1018724/000101872418000108/Financial_Report.xlsx',\n",
       " 'https://www.sec.gov/Archives/edgar/data/1018724/000101872418000072/Financial_Report.xlsx',\n",
       " 'https://www.sec.gov/Archives/edgar/data/1018724/000101872417000135/Financial_Report.xlsx',\n",
       " 'https://www.sec.gov/Archives/edgar/data/1018724/000101872417000100/Financial_Report.xlsx',\n",
       " 'https://www.sec.gov/Archives/edgar/data/1018724/000101872417000051/Financial_Report.xlsx',\n",
       " 'https://www.sec.gov/Archives/edgar/data/1018724/000101872416000324/Financial_Report.xlsx',\n",
       " 'https://www.sec.gov/Archives/edgar/data/1018724/000101872416000286/Financial_Report.xlsx',\n",
       " 'https://www.sec.gov/Archives/edgar/data/1018724/000101872416000227/Financial_Report.xlsx',\n",
       " 'https://www.sec.gov/Archives/edgar/data/1018724/000101872415000126/Financial_Report.xlsx',\n",
       " 'https://www.sec.gov/Archives/edgar/data/1018724/000101872415000087/Financial_Report.xlsx',\n",
       " 'https://www.sec.gov/Archives/edgar/data/1018724/000101872415000038/Financial_Report.xlsx',\n",
       " 'https://www.sec.gov/Archives/edgar/data/1018724/000101872414000055/Financial_Report.xlsx',\n",
       " 'https://www.sec.gov/Archives/edgar/data/1018724/000101872414000025/Financial_Report.xlsx',\n",
       " 'https://www.sec.gov/Archives/edgar/data/1018724/000101872414000014/Financial_Report.xlsx',\n",
       " 'https://www.sec.gov/Archives/edgar/data/1018724/000144530513002495/Financial_Report.xlsx',\n",
       " 'https://www.sec.gov/Archives/edgar/data/1018724/000119312513303204/Financial_Report.xls',\n",
       " 'https://www.sec.gov/Archives/edgar/data/1018724/000119312513174667/Financial_Report.xls',\n",
       " 'https://www.sec.gov/Archives/edgar/data/1018724/000119312512436012/Financial_Report.xls',\n",
       " 'https://www.sec.gov/Archives/edgar/data/1018724/000119312512317409/Financial_Report.xls',\n",
       " 'https://www.sec.gov/Archives/edgar/data/1018724/000119312512187203/Financial_Report.xls',\n",
       " 'https://www.sec.gov/Archives/edgar/data/1018724/000119312511280739/Financial_Report.xls',\n",
       " 'https://www.sec.gov/Archives/edgar/data/1018724/000119312511197823/Financial_Report.xls',\n",
       " 'https://www.sec.gov/Archives/edgar/data/1018724/000119312511110197/Financial_Report.xls',\n",
       " 'https://www.sec.gov/Archives/edgar/data/1018724/000119312510233883/Financial_Report.xls',\n",
       " 'https://www.sec.gov/Archives/edgar/data/1018724/000119312510164083/Financial_Report.xls',\n",
       " 'https://www.sec.gov/Archives/edgar/data/1018724/000119312510090367/Financial_Report.xls',\n",
       " 'https://www.sec.gov/Archives/edgar/data/1018724/000119312509212134/Financial_Report.xls',\n",
       " 'https://www.sec.gov/Archives/edgar/data/1018724/000119312509154174/Financial_Report.xls']"
      ]
     },
     "execution_count": 11,
     "metadata": {},
     "output_type": "execute_result"
    }
   ],
   "source": [
    "F_S_links"
   ]
  },
  {
   "cell_type": "code",
   "execution_count": 12,
   "metadata": {},
   "outputs": [
    {
     "data": {
      "text/plain": [
       "'https://www.sec.gov/Archives/edgar/data/1018724/000101872420000021/Financial_Report.xlsx'"
      ]
     },
     "execution_count": 12,
     "metadata": {},
     "output_type": "execute_result"
    }
   ],
   "source": [
    "# the most recent link to the xls doc\n",
    "F_S_links[0]"
   ]
  },
  {
   "cell_type": "code",
   "execution_count": 13,
   "metadata": {},
   "outputs": [],
   "source": [
    "# lest download the document using pandas\n",
    "doc = pd.ExcelFile(F_S_links[0])"
   ]
  },
  {
   "cell_type": "code",
   "execution_count": 14,
   "metadata": {},
   "outputs": [
    {
     "ename": "NameError",
     "evalue": "name 'df' is not defined",
     "output_type": "error",
     "traceback": [
      "\u001b[0;31m---------------------------------------------------------------------------\u001b[0m",
      "\u001b[0;31mNameError\u001b[0m                                 Traceback (most recent call last)",
      "\u001b[0;32m<ipython-input-14-871152464c45>\u001b[0m in \u001b[0;36m<module>\u001b[0;34m\u001b[0m\n\u001b[1;32m      1\u001b[0m \u001b[0;31m# the xls have a lot of sheets, lets see one\u001b[0m\u001b[0;34m\u001b[0m\u001b[0;34m\u001b[0m\u001b[0m\n\u001b[0;32m----> 2\u001b[0;31m \u001b[0mdf1\u001b[0m \u001b[0;34m=\u001b[0m \u001b[0mpd\u001b[0m\u001b[0;34m.\u001b[0m\u001b[0mread_excel\u001b[0m\u001b[0;34m(\u001b[0m\u001b[0mdf\u001b[0m\u001b[0;34m,\u001b[0m \u001b[0;34m'Consolidated Balance Sheets'\u001b[0m\u001b[0;34m)\u001b[0m\u001b[0;34m\u001b[0m\u001b[0m\n\u001b[0m\u001b[1;32m      3\u001b[0m \u001b[0mdf1\u001b[0m\u001b[0;34m\u001b[0m\u001b[0m\n",
      "\u001b[0;31mNameError\u001b[0m: name 'df' is not defined"
     ]
    }
   ],
   "source": [
    "# the xls have a lot of sheets, lets see one\n",
    "df1 = pd.read_excel(df, 'Consolidated Balance Sheets')\n",
    "df1"
   ]
  },
  {
   "cell_type": "code",
   "execution_count": null,
   "metadata": {},
   "outputs": [],
   "source": [
    "# to see all sheet names of the doc, we will use the sheet_names atribute\n",
    "# it's a list wit all sheet names\n",
    "doc.sheet_names"
   ]
  },
  {
   "cell_type": "code",
   "execution_count": null,
   "metadata": {},
   "outputs": [],
   "source": [
    "# it's a list wit all atributes\n",
    "doc.sheet_names"
   ]
  },
  {
   "cell_type": "code",
   "execution_count": null,
   "metadata": {},
   "outputs": [],
   "source": [
    "# lest see one sheet using\n",
    "pd.read_excel(doc, doc.sheet_names[1])"
   ]
  },
  {
   "cell_type": "code",
   "execution_count": null,
   "metadata": {},
   "outputs": [],
   "source": []
  },
  {
   "cell_type": "code",
   "execution_count": null,
   "metadata": {},
   "outputs": [],
   "source": []
  },
  {
   "cell_type": "code",
   "execution_count": null,
   "metadata": {},
   "outputs": [],
   "source": []
  }
 ],
 "metadata": {
  "kernelspec": {
   "display_name": "Python 3",
   "language": "python",
   "name": "python3"
  },
  "language_info": {
   "codemirror_mode": {
    "name": "ipython",
    "version": 3
   },
   "file_extension": ".py",
   "mimetype": "text/x-python",
   "name": "python",
   "nbconvert_exporter": "python",
   "pygments_lexer": "ipython3",
   "version": "3.6.5"
  }
 },
 "nbformat": 4,
 "nbformat_minor": 2
}
