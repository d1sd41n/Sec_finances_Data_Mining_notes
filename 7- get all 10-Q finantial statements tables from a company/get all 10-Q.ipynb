{
 "cells": [
  {
   "cell_type": "code",
   "execution_count": 1,
   "metadata": {},
   "outputs": [],
   "source": [
    "import requests\n",
    "from bs4 import BeautifulSoup"
   ]
  },
  {
   "cell_type": "markdown",
   "metadata": {},
   "source": [
    "# Section One: Define the Parameters of the Search\n",
    "To create a search we need to \"build\" a URL that takes us to a valid results query, this requires taking our base endpoint and attaching on different parameters to help narrow down our search. I'll do my best to explain how each of these parameters works, but unfortunately, there is no formal documentation on this.\n",
    "\n",
    "Endpoint The endpoint for our EDGAR query is https://www.sec.gov/cgi-bin/browse-edgar if you go to this link without any additional parameters it will be an invalid request.\n",
    "\n",
    "--------------------------------------------------------------------\n",
    "### Parameters:\n",
    "\n",
    "- **action:** (required) By default should be set to getcompany.\n",
    "\n",
    "- **CIK**: (required) Is the CIK number of the company you are searching.\n",
    "\n",
    "- **type**: (optional) Allows filtering the type of form. For example, if set to 10-k only the 10-K filings are returned.\n",
    "\n",
    "- **dateb**: (optional) Will only return the filings before a given date. The format is as follows YYYYMMDD\n",
    "\n",
    "- **owner:** (required) Is set to exclude by default and specifies ownership. You may also set it to include and only.\n",
    "\n",
    "- **start:** (optional) Is the starting index of the results. For example, if I have 100 results but want to start at 45 of 100, I would pass 45.\n",
    "\n",
    "- **state:** (optional) The company's state.\n",
    "\n",
    "- **filenum:** (optional) The filing number.\n",
    "\n",
    "- **sic:** (optional) The company's SIC (Standard Industry Classification) identifier\n",
    "- **output:** (optional) Defines returned data structure as either xml (atom) or normal html.\n",
    "\n",
    "- **count:** (optional) The number of results you want to see with your request, the max is 100 and if not set it will default to 40.\n",
    "\n",
    "------------------------------------------------------------------------------\n",
    "Now that we understand all the parameters let's make a request by defining our endpoint, and then a dictionary of our parameters. Where the key of the dictionary is the parameter name, and the value is the value we want to set for that parameter. Once we've defined these two components we can make our request and parse the response using BeautifulSoup."
   ]
  },
  {
   "cell_type": "code",
   "execution_count": 2,
   "metadata": {},
   "outputs": [
    {
     "name": "stdout",
     "output_type": "stream",
     "text": [
      "200\n",
      "https://www.sec.gov/cgi-bin/browse-edgar?action=getcompany&CIK=+0000789019&type=10-Q&dateb=&owner=exclude&start=&output=&count=100\n"
     ]
    }
   ],
   "source": [
    "# base URL for the SEC EDGAR browser\n",
    "endpoint = r\"https://www.sec.gov/cgi-bin/browse-edgar\"\n",
    "\n",
    "# define our parameters dictionary\n",
    "param_dict = {'action':'getcompany',\n",
    "              'CIK':' 0000789019',\n",
    "              'type':'10-Q',\n",
    "              'dateb':'',\n",
    "              'owner':'exclude',\n",
    "              'start':'',\n",
    "              'output':'',\n",
    "              'count':'100'}\n",
    "\n",
    "# request the url, and then parse the response.\n",
    "response = requests.get(url = endpoint, params = param_dict)\n",
    "soup = BeautifulSoup(response.content, 'lxml')\n",
    "\n",
    "# print status code\n",
    "print(response.status_code)\n",
    "print(response.url)"
   ]
  },
  {
   "cell_type": "code",
   "execution_count": 3,
   "metadata": {},
   "outputs": [],
   "source": [
    "# this list will save all interative data links\n",
    "I_D_links = []\n",
    "\n",
    "# get all interactive data financial statements\n",
    "entries = soup.find_all(id=\"interactiveDataBtn\")\n",
    "\n",
    "for e in entries:\n",
    "    I_D_links.append(\"https://www.sec.gov\" + e.get('href'))"
   ]
  },
  {
   "cell_type": "code",
   "execution_count": 4,
   "metadata": {},
   "outputs": [
    {
     "data": {
      "text/plain": [
       "['https://www.sec.gov/cgi-bin/viewer?action=view&cik=789019&accession_number=0001564590-20-019706&xbrl_type=v',\n",
       " 'https://www.sec.gov/cgi-bin/viewer?action=view&cik=789019&accession_number=0001564590-20-002450&xbrl_type=v',\n",
       " 'https://www.sec.gov/cgi-bin/viewer?action=view&cik=789019&accession_number=0001564590-19-037549&xbrl_type=v',\n",
       " 'https://www.sec.gov/cgi-bin/viewer?action=view&cik=789019&accession_number=0001564590-19-012709&xbrl_type=v',\n",
       " 'https://www.sec.gov/cgi-bin/viewer?action=view&cik=789019&accession_number=0001564590-19-001392&xbrl_type=v',\n",
       " 'https://www.sec.gov/cgi-bin/viewer?action=view&cik=789019&accession_number=0001564590-18-024893&xbrl_type=v',\n",
       " 'https://www.sec.gov/cgi-bin/viewer?action=view&cik=789019&accession_number=0001564590-18-009307&xbrl_type=v',\n",
       " 'https://www.sec.gov/cgi-bin/viewer?action=view&cik=789019&accession_number=0001564590-18-001129&xbrl_type=v',\n",
       " 'https://www.sec.gov/cgi-bin/viewer?action=view&cik=789019&accession_number=0001564590-17-020171&xbrl_type=v',\n",
       " 'https://www.sec.gov/cgi-bin/viewer?action=view&cik=789019&accession_number=0001564590-17-007547&xbrl_type=v',\n",
       " 'https://www.sec.gov/cgi-bin/viewer?action=view&cik=789019&accession_number=0001564590-17-000654&xbrl_type=v',\n",
       " 'https://www.sec.gov/cgi-bin/viewer?action=view&cik=789019&accession_number=0001193125-16-742796&xbrl_type=v',\n",
       " 'https://www.sec.gov/cgi-bin/viewer?action=view&cik=789019&accession_number=0001193125-16-550254&xbrl_type=v',\n",
       " 'https://www.sec.gov/cgi-bin/viewer?action=view&cik=789019&accession_number=0001193125-16-441821&xbrl_type=v',\n",
       " 'https://www.sec.gov/cgi-bin/viewer?action=view&cik=789019&accession_number=0001193125-15-350718&xbrl_type=v',\n",
       " 'https://www.sec.gov/cgi-bin/viewer?action=view&cik=789019&accession_number=0001193125-15-144151&xbrl_type=v',\n",
       " 'https://www.sec.gov/cgi-bin/viewer?action=view&cik=789019&accession_number=0001193125-15-020351&xbrl_type=v',\n",
       " 'https://www.sec.gov/cgi-bin/viewer?action=view&cik=789019&accession_number=0001193125-14-380252&xbrl_type=v',\n",
       " 'https://www.sec.gov/cgi-bin/viewer?action=view&cik=789019&accession_number=0001193125-14-157088&xbrl_type=v',\n",
       " 'https://www.sec.gov/cgi-bin/viewer?action=view&cik=789019&accession_number=0001193125-14-018634&xbrl_type=v',\n",
       " 'https://www.sec.gov/cgi-bin/viewer?action=view&cik=789019&accession_number=0001193125-13-409855&xbrl_type=v',\n",
       " 'https://www.sec.gov/cgi-bin/viewer?action=view&cik=789019&accession_number=0001193125-13-160748&xbrl_type=v',\n",
       " 'https://www.sec.gov/cgi-bin/viewer?action=view&cik=789019&accession_number=0001193125-13-022207&xbrl_type=v',\n",
       " 'https://www.sec.gov/cgi-bin/viewer?action=view&cik=789019&accession_number=0001193125-12-427209&xbrl_type=v',\n",
       " 'https://www.sec.gov/cgi-bin/viewer?action=view&cik=789019&accession_number=0001193125-12-170665&xbrl_type=v',\n",
       " 'https://www.sec.gov/cgi-bin/viewer?action=view&cik=789019&accession_number=0001193125-12-026864&xbrl_type=v',\n",
       " 'https://www.sec.gov/cgi-bin/viewer?action=view&cik=789019&accession_number=0001193125-11-276022&xbrl_type=v',\n",
       " 'https://www.sec.gov/cgi-bin/viewer?action=view&cik=789019&accession_number=0001193125-11-115186&xbrl_type=v',\n",
       " 'https://www.sec.gov/cgi-bin/viewer?action=view&cik=789019&accession_number=0001193125-11-015947&xbrl_type=v',\n",
       " 'https://www.sec.gov/cgi-bin/viewer?action=view&cik=789019&accession_number=0001193125-10-239825&xbrl_type=v',\n",
       " 'https://www.sec.gov/cgi-bin/viewer?action=view&cik=789019&accession_number=0001193125-10-090116&xbrl_type=v',\n",
       " 'https://www.sec.gov/cgi-bin/viewer?action=view&cik=789019&accession_number=0001193125-10-015598&xbrl_type=v',\n",
       " 'https://www.sec.gov/cgi-bin/viewer?action=view&cik=789019&accession_number=0001193125-09-212454&xbrl_type=v']"
      ]
     },
     "execution_count": 4,
     "metadata": {},
     "output_type": "execute_result"
    }
   ],
   "source": [
    "I_D_links"
   ]
  },
  {
   "cell_type": "code",
   "execution_count": 5,
   "metadata": {},
   "outputs": [],
   "source": [
    "endpoint = 'https://www.sec.gov/cgi-bin/viewer?action=view&cik=789019&accession_number=0001564590-20-019706&xbrl_type=v'\n",
    "response = requests.get(url = endpoint)"
   ]
  },
  {
   "cell_type": "code",
   "execution_count": 13,
   "metadata": {},
   "outputs": [
    {
     "data": {
      "text/plain": [
       "'/Archives/edgar/data/789019/000156459020019706/Financial_Report.xlsx'"
      ]
     },
     "execution_count": 13,
     "metadata": {},
     "output_type": "execute_result"
    }
   ],
   "source": [
    "soup = BeautifulSoup(response.content, 'lxml')\n",
    "entries = soup.find(\"a\", string=\"View Excel Document\")\n",
    "entries.get('href')"
   ]
  },
  {
   "cell_type": "code",
   "execution_count": 17,
   "metadata": {},
   "outputs": [
    {
     "name": "stdout",
     "output_type": "stream",
     "text": [
      "/Archives/edgar/data/789019/000156459020019706/Financial_Report.xlsx\n",
      "/Archives/edgar/data/789019/000156459020002450/Financial_Report.xlsx\n",
      "/Archives/edgar/data/789019/000156459019037549/Financial_Report.xlsx\n",
      "/Archives/edgar/data/789019/000156459019012709/Financial_Report.xlsx\n",
      "/Archives/edgar/data/789019/000156459019001392/Financial_Report.xlsx\n",
      "/Archives/edgar/data/789019/000156459018024893/Financial_Report.xlsx\n",
      "/Archives/edgar/data/789019/000156459018009307/Financial_Report.xlsx\n",
      "/Archives/edgar/data/789019/000156459018001129/Financial_Report.xlsx\n",
      "/Archives/edgar/data/789019/000156459017020171/Financial_Report.xlsx\n",
      "/Archives/edgar/data/789019/000156459017007547/Financial_Report.xlsx\n",
      "/Archives/edgar/data/789019/000156459017000654/Financial_Report.xlsx\n",
      "/Archives/edgar/data/789019/000119312516742796/Financial_Report.xlsx\n",
      "/Archives/edgar/data/789019/000119312516550254/Financial_Report.xlsx\n",
      "/Archives/edgar/data/789019/000119312516441821/Financial_Report.xlsx\n",
      "/Archives/edgar/data/789019/000119312515350718/Financial_Report.xlsx\n",
      "/Archives/edgar/data/789019/000119312515144151/Financial_Report.xlsx\n",
      "/Archives/edgar/data/789019/000119312515020351/Financial_Report.xlsx\n",
      "/Archives/edgar/data/789019/000119312514380252/Financial_Report.xlsx\n",
      "/Archives/edgar/data/789019/000119312514157088/Financial_Report.xlsx\n",
      "/Archives/edgar/data/789019/000119312514018634/Financial_Report.xlsx\n",
      "/Archives/edgar/data/789019/000119312513409855/Financial_Report.xlsx\n",
      "/Archives/edgar/data/789019/000119312513160748/Financial_Report.xls\n",
      "/Archives/edgar/data/789019/000119312513022207/Financial_Report.xls\n",
      "/Archives/edgar/data/789019/000119312512427209/Financial_Report.xls\n",
      "/Archives/edgar/data/789019/000119312512170665/Financial_Report.xls\n",
      "/Archives/edgar/data/789019/000119312512026864/Financial_Report.xls\n",
      "/Archives/edgar/data/789019/000119312511276022/Financial_Report.xls\n",
      "/Archives/edgar/data/789019/000119312511115186/Financial_Report.xls\n",
      "/Archives/edgar/data/789019/000119312511015947/Financial_Report.xls\n",
      "/Archives/edgar/data/789019/000119312510239825/Financial_Report.xls\n",
      "/Archives/edgar/data/789019/000119312510090116/Financial_Report.xls\n",
      "/Archives/edgar/data/789019/000119312510015598/Financial_Report.xls\n",
      "/Archives/edgar/data/789019/000119312509212454/Financial_Report.xls\n"
     ]
    }
   ],
   "source": [
    "F_S_links = []\n",
    "for l in I_D_links:\n",
    "    endpoint = l\n",
    "    response = requests.get(url = endpoint)\n",
    "    soup = BeautifulSoup(response.content, 'lxml')\n",
    "    entries = soup.find(\"a\", string=\"View Excel Document\")\n",
    "    F_S_links.append(\"https://www.sec.gov\" + entries.get('href'))\n",
    "    print(entries.get('href'))\n",
    "    "
   ]
  },
  {
   "cell_type": "code",
   "execution_count": 18,
   "metadata": {},
   "outputs": [
    {
     "data": {
      "text/plain": [
       "['https://www.sec.gov/Archives/edgar/data/789019/000156459020019706/Financial_Report.xlsx',\n",
       " 'https://www.sec.gov/Archives/edgar/data/789019/000156459020002450/Financial_Report.xlsx',\n",
       " 'https://www.sec.gov/Archives/edgar/data/789019/000156459019037549/Financial_Report.xlsx',\n",
       " 'https://www.sec.gov/Archives/edgar/data/789019/000156459019012709/Financial_Report.xlsx',\n",
       " 'https://www.sec.gov/Archives/edgar/data/789019/000156459019001392/Financial_Report.xlsx',\n",
       " 'https://www.sec.gov/Archives/edgar/data/789019/000156459018024893/Financial_Report.xlsx',\n",
       " 'https://www.sec.gov/Archives/edgar/data/789019/000156459018009307/Financial_Report.xlsx',\n",
       " 'https://www.sec.gov/Archives/edgar/data/789019/000156459018001129/Financial_Report.xlsx',\n",
       " 'https://www.sec.gov/Archives/edgar/data/789019/000156459017020171/Financial_Report.xlsx',\n",
       " 'https://www.sec.gov/Archives/edgar/data/789019/000156459017007547/Financial_Report.xlsx',\n",
       " 'https://www.sec.gov/Archives/edgar/data/789019/000156459017000654/Financial_Report.xlsx',\n",
       " 'https://www.sec.gov/Archives/edgar/data/789019/000119312516742796/Financial_Report.xlsx',\n",
       " 'https://www.sec.gov/Archives/edgar/data/789019/000119312516550254/Financial_Report.xlsx',\n",
       " 'https://www.sec.gov/Archives/edgar/data/789019/000119312516441821/Financial_Report.xlsx',\n",
       " 'https://www.sec.gov/Archives/edgar/data/789019/000119312515350718/Financial_Report.xlsx',\n",
       " 'https://www.sec.gov/Archives/edgar/data/789019/000119312515144151/Financial_Report.xlsx',\n",
       " 'https://www.sec.gov/Archives/edgar/data/789019/000119312515020351/Financial_Report.xlsx',\n",
       " 'https://www.sec.gov/Archives/edgar/data/789019/000119312514380252/Financial_Report.xlsx',\n",
       " 'https://www.sec.gov/Archives/edgar/data/789019/000119312514157088/Financial_Report.xlsx',\n",
       " 'https://www.sec.gov/Archives/edgar/data/789019/000119312514018634/Financial_Report.xlsx',\n",
       " 'https://www.sec.gov/Archives/edgar/data/789019/000119312513409855/Financial_Report.xlsx',\n",
       " 'https://www.sec.gov/Archives/edgar/data/789019/000119312513160748/Financial_Report.xls',\n",
       " 'https://www.sec.gov/Archives/edgar/data/789019/000119312513022207/Financial_Report.xls',\n",
       " 'https://www.sec.gov/Archives/edgar/data/789019/000119312512427209/Financial_Report.xls',\n",
       " 'https://www.sec.gov/Archives/edgar/data/789019/000119312512170665/Financial_Report.xls',\n",
       " 'https://www.sec.gov/Archives/edgar/data/789019/000119312512026864/Financial_Report.xls',\n",
       " 'https://www.sec.gov/Archives/edgar/data/789019/000119312511276022/Financial_Report.xls',\n",
       " 'https://www.sec.gov/Archives/edgar/data/789019/000119312511115186/Financial_Report.xls',\n",
       " 'https://www.sec.gov/Archives/edgar/data/789019/000119312511015947/Financial_Report.xls',\n",
       " 'https://www.sec.gov/Archives/edgar/data/789019/000119312510239825/Financial_Report.xls',\n",
       " 'https://www.sec.gov/Archives/edgar/data/789019/000119312510090116/Financial_Report.xls',\n",
       " 'https://www.sec.gov/Archives/edgar/data/789019/000119312510015598/Financial_Report.xls',\n",
       " 'https://www.sec.gov/Archives/edgar/data/789019/000119312509212454/Financial_Report.xls']"
      ]
     },
     "execution_count": 18,
     "metadata": {},
     "output_type": "execute_result"
    }
   ],
   "source": [
    "F_S_links"
   ]
  },
  {
   "cell_type": "code",
   "execution_count": 19,
   "metadata": {},
   "outputs": [
    {
     "data": {
      "text/plain": [
       "33"
      ]
     },
     "execution_count": 19,
     "metadata": {},
     "output_type": "execute_result"
    }
   ],
   "source": [
    "len(F_S_links)"
   ]
  },
  {
   "cell_type": "code",
   "execution_count": 20,
   "metadata": {},
   "outputs": [
    {
     "data": {
      "text/plain": [
       "33"
      ]
     },
     "execution_count": 20,
     "metadata": {},
     "output_type": "execute_result"
    }
   ],
   "source": [
    "len(I_D_links)"
   ]
  },
  {
   "cell_type": "code",
   "execution_count": null,
   "metadata": {},
   "outputs": [],
   "source": []
  }
 ],
 "metadata": {
  "kernelspec": {
   "display_name": "Python 3",
   "language": "python",
   "name": "python3"
  },
  "language_info": {
   "codemirror_mode": {
    "name": "ipython",
    "version": 3
   },
   "file_extension": ".py",
   "mimetype": "text/x-python",
   "name": "python",
   "nbconvert_exporter": "python",
   "pygments_lexer": "ipython3",
   "version": "3.6.5"
  }
 },
 "nbformat": 4,
 "nbformat_minor": 2
}
