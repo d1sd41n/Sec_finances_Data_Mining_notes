{
 "cells": [
  {
   "cell_type": "code",
   "execution_count": 1,
   "metadata": {},
   "outputs": [],
   "source": [
    "import requests\n",
    "from bs4 import BeautifulSoup"
   ]
  },
  {
   "cell_type": "markdown",
   "metadata": {},
   "source": [
    "# Section One: Define the Parameters of the Search\n",
    "To create a search we need to \"build\" a URL that takes us to a valid results query, this requires taking our base endpoint and attaching on different parameters to help narrow down our search. I'll do my best to explain how each of these parameters works, but unfortunately, there is no formal documentation on this.\n",
    "\n",
    "Endpoint The endpoint for our EDGAR query is https://www.sec.gov/cgi-bin/browse-edgar if you go to this link without any additional parameters it will be an invalid request.\n",
    "\n",
    "--------------------------------------------------------------------\n",
    "### Parameters:\n",
    "\n",
    "- **action:** (required) By default should be set to getcompany.\n",
    "\n",
    "- **CIK**: (required) Is the CIK number of the company you are searching.\n",
    "\n",
    "- **type**: (optional) Allows filtering the type of form. For example, if set to 10-k only the 10-K filings are returned.\n",
    "\n",
    "- **dateb**: (optional) Will only return the filings before a given date. The format is as follows YYYYMMDD\n",
    "\n",
    "- **owner:** (required) Is set to exclude by default and specifies ownership. You may also set it to include and only.\n",
    "\n",
    "- **start:** (optional) Is the starting index of the results. For example, if I have 100 results but want to start at 45 of 100, I would pass 45.\n",
    "\n",
    "- **state:** (optional) The company's state.\n",
    "\n",
    "- **filenum:** (optional) The filing number.\n",
    "\n",
    "- **sic:** (optional) The company's SIC (Standard Industry Classification) identifier\n",
    "- **output:** (optional) Defines returned data structure as either xml (atom) or normal html.\n",
    "\n",
    "- **count:** (optional) The number of results you want to see with your request, the max is 100 and if not set it will default to 40.\n",
    "\n",
    "------------------------------------------------------------------------------\n",
    "Now that we understand all the parameters let's make a request by defining our endpoint, and then a dictionary of our parameters. Where the key of the dictionary is the parameter name, and the value is the value we want to set for that parameter. Once we've defined these two components we can make our request and parse the response using BeautifulSoup."
   ]
  },
  {
   "cell_type": "code",
   "execution_count": 17,
   "metadata": {},
   "outputs": [
    {
     "name": "stdout",
     "output_type": "stream",
     "text": [
      "200\n",
      "https://www.sec.gov/cgi-bin/browse-edgar?action=getcompany&owner=exclude&output=atom&company=Microsoft\n"
     ]
    }
   ],
   "source": [
    "# base URL for the SEC EDGAR browser\n",
    "endpoint = r\"https://www.sec.gov/cgi-bin/browse-edgar\"\n",
    "\n",
    "# define our parameters dictionary\n",
    "param_dict = {'action':'getcompany',\n",
    "              'owner':'exclude',\n",
    "              'output':'atom',\n",
    "              'company':'Microsoft'}\n",
    "\n",
    "# request the url, and then parse the response.\n",
    "response = requests.get(url = endpoint, params = param_dict)\n",
    "soup = BeautifulSoup(response.content, 'lxml')\n",
    "\n",
    "# print status code\n",
    "print(response.status_code)\n",
    "print(response.url)"
   ]
  },
  {
   "cell_type": "code",
   "execution_count": 27,
   "metadata": {},
   "outputs": [
    {
     "name": "stdout",
     "output_type": "stream",
     "text": [
      "200\n",
      "https://www.sec.gov/cgi-bin/browse-edgar?action=getcompany&CIK=+0000789019&type=10-k&dateb=&owner=exclude&start=&output=atom&count=100\n"
     ]
    }
   ],
   "source": [
    "# base URL for the SEC EDGAR browser\n",
    "endpoint = r\"https://www.sec.gov/cgi-bin/browse-edgar\"\n",
    "\n",
    "# define our parameters dictionary\n",
    "param_dict = {'action':'getcompany',\n",
    "              'CIK':' 0000789019',\n",
    "              'type':'10-k',\n",
    "              'dateb':'',\n",
    "              'owner':'exclude',\n",
    "              'start':'',\n",
    "              'output':'atom',\n",
    "              'count':'100'}\n",
    "\n",
    "# request the url, and then parse the response.\n",
    "response = requests.get(url = endpoint, params = param_dict)\n",
    "soup = BeautifulSoup(response.content, 'lxml')\n",
    "\n",
    "# print status code\n",
    "print(response.status_code)\n",
    "print(response.url)"
   ]
  },
  {
   "cell_type": "code",
   "execution_count": 35,
   "metadata": {},
   "outputs": [],
   "source": [
    "entries = soup.find_all('entry')\n",
    "# print(entries)\n",
    "\n",
    "# initalize our list for storage\n",
    "master_list_xml = []\n",
    "\n",
    "# loop through each found entry, remember this is only the first two\n",
    "for entry in entries:\n",
    "    # grab the accession number so we can create a key value\n",
    "    accession_num = entry.find('accession-number').text\n",
    "    \n",
    "    # create a new dictionary\n",
    "    entry_dict = {}\n",
    "    entry_dict[accession_num] = {}\n",
    "    \n",
    "    # store the category info\n",
    "    category_info = entry.find('category')    \n",
    "    entry_dict[accession_num]['category'] = {}\n",
    "    entry_dict[accession_num]['category']['label'] = category_info['label']\n",
    "    entry_dict[accession_num]['category']['scheme'] = category_info['scheme']\n",
    "    entry_dict[accession_num]['category']['term'] =  category_info['term']\n",
    "\n",
    "    # store the file info\n",
    "    entry_dict[accession_num]['file_info'] = {}\n",
    "\n",
    "    try:\n",
    "        entry_dict[accession_num]['file_info']['act'] = entry.find('act').text\n",
    "    except:\n",
    "        entry_dict[accession_num]['file_info']['act'] = \"\"\n",
    "\n",
    "    entry_dict[accession_num]['file_info']['file_number'] = entry.find('file-number').text\n",
    "    entry_dict[accession_num]['file_info']['file_number_href'] = entry.find('file-number-href').text\n",
    "    entry_dict[accession_num]['file_info']['filing_date'] =  entry.find('filing-date').text\n",
    "    entry_dict[accession_num]['file_info']['filing_href'] = entry.find('filing-href').text\n",
    "    entry_dict[accession_num]['file_info']['filing_type'] =  entry.find('filing-type').text\n",
    "    entry_dict[accession_num]['file_info']['form_number'] =  entry.find('film-number').text\n",
    "    entry_dict[accession_num]['file_info']['form_name'] =  entry.find('form-name').text\n",
    "    entry_dict[accession_num]['file_info']['file_size'] =  entry.find('size').text\n",
    "    \n",
    "    try:\n",
    "        entry_dict[accession_num]['file_info']['xbrl_href'] = entry.find('xbrl_href').text\n",
    "    except:\n",
    "        entry_dict[accession_num]['file_info']['xbrl_href'] = \"\"\n",
    "    \n",
    "    # store extra info\n",
    "    entry_dict[accession_num]['request_info'] = {}\n",
    "    entry_dict[accession_num]['request_info']['link'] =  entry.find('link')['href']\n",
    "    entry_dict[accession_num]['request_info']['title'] =  entry.find('title').text\n",
    "    entry_dict[accession_num]['request_info']['last_updated'] =  entry.find('updated').text\n",
    "    \n",
    "    # store in the master list\n",
    "    master_list_xml.append(entry_dict)"
   ]
  },
  {
   "cell_type": "code",
   "execution_count": 39,
   "metadata": {},
   "outputs": [
    {
     "data": {
      "text/plain": [
       "{'act': '34',\n",
       " 'file_number': '001-37845',\n",
       " 'file_number_href': 'https://www.sec.gov/cgi-bin/browse-edgar?action=getcompany&filenum=001-37845&owner=exclude&count=100',\n",
       " 'filing_date': '2019-08-01',\n",
       " 'filing_href': 'https://www.sec.gov/Archives/edgar/data/789019/000156459019027952/0001564590-19-027952-index.htm',\n",
       " 'filing_type': '10-K',\n",
       " 'form_number': '19992755',\n",
       " 'form_name': 'Annual report [Section 13 and 15(d), not S-K Item 405]',\n",
       " 'file_size': '26 MB',\n",
       " 'xbrl_href': 'https://www.sec.gov/cgi-bin/viewer?action=view&cik=789019&accession_number=0001564590-19-027952&xbrl_type=v'}"
      ]
     },
     "execution_count": 39,
     "metadata": {},
     "output_type": "execute_result"
    }
   ],
   "source": [
    "master_list_xml[0][\"0001564590-19-027952\"][\"file_info\"]"
   ]
  },
  {
   "cell_type": "code",
   "execution_count": null,
   "metadata": {},
   "outputs": [],
   "source": []
  }
 ],
 "metadata": {
  "kernelspec": {
   "display_name": "Python 3",
   "language": "python",
   "name": "python3"
  },
  "language_info": {
   "codemirror_mode": {
    "name": "ipython",
    "version": 3
   },
   "file_extension": ".py",
   "mimetype": "text/x-python",
   "name": "python",
   "nbconvert_exporter": "python",
   "pygments_lexer": "ipython3",
   "version": "3.6.5"
  }
 },
 "nbformat": 4,
 "nbformat_minor": 2
}
