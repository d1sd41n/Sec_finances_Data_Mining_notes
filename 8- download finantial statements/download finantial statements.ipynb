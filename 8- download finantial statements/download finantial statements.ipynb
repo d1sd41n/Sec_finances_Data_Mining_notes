{
 "cells": [
  {
   "cell_type": "code",
   "execution_count": 13,
   "metadata": {},
   "outputs": [],
   "source": [
    "import urllib.request\n",
    "from get_finantial_docs import get_fin_docs\n",
    "import os"
   ]
  },
  {
   "cell_type": "code",
   "execution_count": 8,
   "metadata": {},
   "outputs": [
    {
     "name": "stdout",
     "output_type": "stream",
     "text": [
      "Search page URL: https://www.sec.gov/cgi-bin/browse-edgar?action=getcompany&CIK=1018724&type=10-Q&dateb=&owner=exclude&start=&output=&count=100\n",
      "Gettings docs URLs... \n",
      "0%...\n",
      "2%...\n",
      "5%...\n",
      "8%...\n",
      "11%...\n",
      "14%...\n",
      "17%...\n",
      "20%...\n",
      "23%...\n",
      "26%...\n",
      "29%...\n",
      "32%...\n",
      "35%...\n",
      "38%...\n",
      "41%...\n",
      "44%...\n",
      "47%...\n",
      "50%...\n",
      "52%...\n",
      "55%...\n",
      "58%...\n",
      "61%...\n",
      "64%...\n",
      "67%...\n",
      "70%...\n",
      "73%...\n",
      "76%...\n",
      "79%...\n",
      "82%...\n",
      "85%...\n",
      "88%...\n",
      "91%...\n",
      "94%...\n",
      "97%...\n"
     ]
    }
   ],
   "source": [
    "data = get_fin_docs(\"1018724\")"
   ]
  },
  {
   "cell_type": "code",
   "execution_count": 7,
   "metadata": {},
   "outputs": [
    {
     "data": {
      "text/plain": [
       "[['https://www.sec.gov/cgi-bin/viewer?action=view&cik=1018724&accession_number=0001018724-20-000021&xbrl_type=v',\n",
       "  '2020-07-31',\n",
       "  'https://www.sec.gov/Archives/edgar/data/1018724/000101872420000021/Financial_Report.xlsx'],\n",
       " ['https://www.sec.gov/cgi-bin/viewer?action=view&cik=1018724&accession_number=0001018724-20-000010&xbrl_type=v',\n",
       "  '2020-05-01',\n",
       "  'https://www.sec.gov/Archives/edgar/data/1018724/000101872420000010/Financial_Report.xlsx'],\n",
       " ['https://www.sec.gov/cgi-bin/viewer?action=view&cik=1018724&accession_number=0001018724-19-000089&xbrl_type=v',\n",
       "  '2019-10-25',\n",
       "  'https://www.sec.gov/Archives/edgar/data/1018724/000101872419000089/Financial_Report.xlsx'],\n",
       " ['https://www.sec.gov/cgi-bin/viewer?action=view&cik=1018724&accession_number=0001018724-19-000071&xbrl_type=v',\n",
       "  '2019-07-26',\n",
       "  'https://www.sec.gov/Archives/edgar/data/1018724/000101872419000071/Financial_Report.xlsx'],\n",
       " ['https://www.sec.gov/cgi-bin/viewer?action=view&cik=1018724&accession_number=0001018724-19-000043&xbrl_type=v',\n",
       "  '2019-04-26',\n",
       "  'https://www.sec.gov/Archives/edgar/data/1018724/000101872419000043/Financial_Report.xlsx'],\n",
       " ['https://www.sec.gov/cgi-bin/viewer?action=view&cik=1018724&accession_number=0001018724-18-000159&xbrl_type=v',\n",
       "  '2018-10-26',\n",
       "  'https://www.sec.gov/Archives/edgar/data/1018724/000101872418000159/Financial_Report.xlsx'],\n",
       " ['https://www.sec.gov/cgi-bin/viewer?action=view&cik=1018724&accession_number=0001018724-18-000108&xbrl_type=v',\n",
       "  '2018-07-27',\n",
       "  'https://www.sec.gov/Archives/edgar/data/1018724/000101872418000108/Financial_Report.xlsx'],\n",
       " ['https://www.sec.gov/cgi-bin/viewer?action=view&cik=1018724&accession_number=0001018724-18-000072&xbrl_type=v',\n",
       "  '2018-04-27',\n",
       "  'https://www.sec.gov/Archives/edgar/data/1018724/000101872418000072/Financial_Report.xlsx'],\n",
       " ['https://www.sec.gov/cgi-bin/viewer?action=view&cik=1018724&accession_number=0001018724-17-000135&xbrl_type=v',\n",
       "  '2017-10-27',\n",
       "  'https://www.sec.gov/Archives/edgar/data/1018724/000101872417000135/Financial_Report.xlsx'],\n",
       " ['https://www.sec.gov/cgi-bin/viewer?action=view&cik=1018724&accession_number=0001018724-17-000100&xbrl_type=v',\n",
       "  '2017-07-28',\n",
       "  'https://www.sec.gov/Archives/edgar/data/1018724/000101872417000100/Financial_Report.xlsx'],\n",
       " ['https://www.sec.gov/cgi-bin/viewer?action=view&cik=1018724&accession_number=0001018724-17-000051&xbrl_type=v',\n",
       "  '2017-04-28',\n",
       "  'https://www.sec.gov/Archives/edgar/data/1018724/000101872417000051/Financial_Report.xlsx'],\n",
       " ['https://www.sec.gov/cgi-bin/viewer?action=view&cik=1018724&accession_number=0001018724-16-000324&xbrl_type=v',\n",
       "  '2016-10-28',\n",
       "  'https://www.sec.gov/Archives/edgar/data/1018724/000101872416000324/Financial_Report.xlsx'],\n",
       " ['https://www.sec.gov/cgi-bin/viewer?action=view&cik=1018724&accession_number=0001018724-16-000286&xbrl_type=v',\n",
       "  '2016-07-29',\n",
       "  'https://www.sec.gov/Archives/edgar/data/1018724/000101872416000286/Financial_Report.xlsx'],\n",
       " ['https://www.sec.gov/cgi-bin/viewer?action=view&cik=1018724&accession_number=0001018724-16-000227&xbrl_type=v',\n",
       "  '2016-04-29',\n",
       "  'https://www.sec.gov/Archives/edgar/data/1018724/000101872416000227/Financial_Report.xlsx'],\n",
       " ['https://www.sec.gov/cgi-bin/viewer?action=view&cik=1018724&accession_number=0001018724-15-000126&xbrl_type=v',\n",
       "  '2015-10-23',\n",
       "  'https://www.sec.gov/Archives/edgar/data/1018724/000101872415000126/Financial_Report.xlsx'],\n",
       " ['https://www.sec.gov/cgi-bin/viewer?action=view&cik=1018724&accession_number=0001018724-15-000087&xbrl_type=v',\n",
       "  '2015-07-24',\n",
       "  'https://www.sec.gov/Archives/edgar/data/1018724/000101872415000087/Financial_Report.xlsx'],\n",
       " ['https://www.sec.gov/cgi-bin/viewer?action=view&cik=1018724&accession_number=0001018724-15-000038&xbrl_type=v',\n",
       "  '2015-04-24',\n",
       "  'https://www.sec.gov/Archives/edgar/data/1018724/000101872415000038/Financial_Report.xlsx'],\n",
       " ['https://www.sec.gov/cgi-bin/viewer?action=view&cik=1018724&accession_number=0001018724-14-000055&xbrl_type=v',\n",
       "  '2014-10-24',\n",
       "  'https://www.sec.gov/Archives/edgar/data/1018724/000101872414000055/Financial_Report.xlsx'],\n",
       " ['https://www.sec.gov/cgi-bin/viewer?action=view&cik=1018724&accession_number=0001018724-14-000025&xbrl_type=v',\n",
       "  '2014-07-25',\n",
       "  'https://www.sec.gov/Archives/edgar/data/1018724/000101872414000025/Financial_Report.xlsx'],\n",
       " ['https://www.sec.gov/cgi-bin/viewer?action=view&cik=1018724&accession_number=0001018724-14-000014&xbrl_type=v',\n",
       "  '2014-04-25',\n",
       "  'https://www.sec.gov/Archives/edgar/data/1018724/000101872414000014/Financial_Report.xlsx'],\n",
       " ['https://www.sec.gov/cgi-bin/viewer?action=view&cik=1018724&accession_number=0001445305-13-002495&xbrl_type=v',\n",
       "  '2013-10-25',\n",
       "  'https://www.sec.gov/Archives/edgar/data/1018724/000144530513002495/Financial_Report.xlsx'],\n",
       " ['https://www.sec.gov/cgi-bin/viewer?action=view&cik=1018724&accession_number=0001193125-13-303204&xbrl_type=v',\n",
       "  '2013-07-26',\n",
       "  'https://www.sec.gov/Archives/edgar/data/1018724/000119312513303204/Financial_Report.xls'],\n",
       " ['https://www.sec.gov/cgi-bin/viewer?action=view&cik=1018724&accession_number=0001193125-13-174667&xbrl_type=v',\n",
       "  '2013-04-26',\n",
       "  'https://www.sec.gov/Archives/edgar/data/1018724/000119312513174667/Financial_Report.xls'],\n",
       " ['https://www.sec.gov/cgi-bin/viewer?action=view&cik=1018724&accession_number=0001193125-12-436012&xbrl_type=v',\n",
       "  '2012-10-26',\n",
       "  'https://www.sec.gov/Archives/edgar/data/1018724/000119312512436012/Financial_Report.xls'],\n",
       " ['https://www.sec.gov/cgi-bin/viewer?action=view&cik=1018724&accession_number=0001193125-12-317409&xbrl_type=v',\n",
       "  '2012-07-27',\n",
       "  'https://www.sec.gov/Archives/edgar/data/1018724/000119312512317409/Financial_Report.xls'],\n",
       " ['https://www.sec.gov/cgi-bin/viewer?action=view&cik=1018724&accession_number=0001193125-12-187203&xbrl_type=v',\n",
       "  '2012-04-27',\n",
       "  'https://www.sec.gov/Archives/edgar/data/1018724/000119312512187203/Financial_Report.xls'],\n",
       " ['https://www.sec.gov/cgi-bin/viewer?action=view&cik=1018724&accession_number=0001193125-11-280739&xbrl_type=v',\n",
       "  '2011-10-26',\n",
       "  'https://www.sec.gov/Archives/edgar/data/1018724/000119312511280739/Financial_Report.xls'],\n",
       " ['https://www.sec.gov/cgi-bin/viewer?action=view&cik=1018724&accession_number=0001193125-11-197823&xbrl_type=v',\n",
       "  '2011-07-27',\n",
       "  'https://www.sec.gov/Archives/edgar/data/1018724/000119312511197823/Financial_Report.xls'],\n",
       " ['https://www.sec.gov/cgi-bin/viewer?action=view&cik=1018724&accession_number=0001193125-11-110197&xbrl_type=v',\n",
       "  '2011-04-27',\n",
       "  'https://www.sec.gov/Archives/edgar/data/1018724/000119312511110197/Financial_Report.xls'],\n",
       " ['https://www.sec.gov/cgi-bin/viewer?action=view&cik=1018724&accession_number=0001193125-10-233883&xbrl_type=v',\n",
       "  '2010-10-22',\n",
       "  'https://www.sec.gov/Archives/edgar/data/1018724/000119312510233883/Financial_Report.xls'],\n",
       " ['https://www.sec.gov/cgi-bin/viewer?action=view&cik=1018724&accession_number=0001193125-10-164083&xbrl_type=v',\n",
       "  '2010-07-23',\n",
       "  'https://www.sec.gov/Archives/edgar/data/1018724/000119312510164083/Financial_Report.xls'],\n",
       " ['https://www.sec.gov/cgi-bin/viewer?action=view&cik=1018724&accession_number=0001193125-10-090367&xbrl_type=v',\n",
       "  '2010-04-23',\n",
       "  'https://www.sec.gov/Archives/edgar/data/1018724/000119312510090367/Financial_Report.xls'],\n",
       " ['https://www.sec.gov/cgi-bin/viewer?action=view&cik=1018724&accession_number=0001193125-09-212134&xbrl_type=v',\n",
       "  '2009-10-23',\n",
       "  'https://www.sec.gov/Archives/edgar/data/1018724/000119312509212134/Financial_Report.xls'],\n",
       " ['https://www.sec.gov/cgi-bin/viewer?action=view&cik=1018724&accession_number=0001193125-09-154174&xbrl_type=v',\n",
       "  '2009-07-24',\n",
       "  'https://www.sec.gov/Archives/edgar/data/1018724/000119312509154174/Financial_Report.xls']]"
      ]
     },
     "execution_count": 7,
     "metadata": {},
     "output_type": "execute_result"
    }
   ],
   "source": [
    "data"
   ]
  },
  {
   "cell_type": "code",
   "execution_count": 14,
   "metadata": {},
   "outputs": [],
   "source": [
    "if not os.path.exists('finantial_docs'):\n",
    "    os.makedirs('finantial_docs')"
   ]
  },
  {
   "cell_type": "code",
   "execution_count": 15,
   "metadata": {},
   "outputs": [],
   "source": [
    "for x in data:    \n",
    "    url = x[2]\n",
    "    name = \"./finantial_docs/{}.xlsx\".format(x[1])\n",
    "    urllib.request.urlretrieve(url, name)"
   ]
  },
  {
   "cell_type": "code",
   "execution_count": null,
   "metadata": {},
   "outputs": [],
   "source": []
  }
 ],
 "metadata": {
  "kernelspec": {
   "display_name": "Python 3",
   "language": "python",
   "name": "python3"
  },
  "language_info": {
   "codemirror_mode": {
    "name": "ipython",
    "version": 3
   },
   "file_extension": ".py",
   "mimetype": "text/x-python",
   "name": "python",
   "nbconvert_exporter": "python",
   "pygments_lexer": "ipython3",
   "version": "3.6.5"
  }
 },
 "nbformat": 4,
 "nbformat_minor": 2
}
